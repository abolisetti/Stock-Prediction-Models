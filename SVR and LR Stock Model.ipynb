{
 "cells": [
  {
   "cell_type": "code",
   "execution_count": 1,
   "metadata": {},
   "outputs": [],
   "source": [
    "# Stock Predictor via ML Models\n",
    "import quandl\n",
    "import numpy as np\n",
    "from sklearn.linear_model import LinearRegression\n",
    "from sklearn.svm import SVR\n",
    "from sklearn.model_selection import train_test_split"
   ]
  },
  {
   "cell_type": "code",
   "execution_count": 6,
   "metadata": {},
   "outputs": [],
   "source": [
    "df = quandl.get(\"WIKI/FB\")\n",
    "#Look at Data\n",
    "#print(df.tail())"
   ]
  },
  {
   "cell_type": "code",
   "execution_count": 11,
   "metadata": {},
   "outputs": [
    {
     "name": "stdout",
     "output_type": "stream",
     "text": [
      "            Adj. Close\n",
      "Date                  \n",
      "2012-05-18     38.2318\n",
      "2012-05-21     34.0300\n",
      "2012-05-22     31.0000\n",
      "2012-05-23     32.0000\n",
      "2012-05-24     33.0300\n"
     ]
    }
   ],
   "source": [
    "df = df[['Adj. Close']]\n",
    "print(df.head())"
   ]
  },
  {
   "cell_type": "code",
   "execution_count": 16,
   "metadata": {},
   "outputs": [
    {
     "name": "stdout",
     "output_type": "stream",
     "text": [
      "            Adj. Close  Prediction\n",
      "Date                              \n",
      "2012-05-18     38.2318      30.771\n",
      "2012-05-21     34.0300      31.200\n",
      "2012-05-22     31.0000      31.470\n",
      "2012-05-23     32.0000      31.730\n",
      "2012-05-24     33.0300      32.170\n"
     ]
    }
   ],
   "source": [
    "#Prediction n days into the future\n",
    "forecast_out = 30\n",
    "#Create column (dep. variable) shifted n units up\n",
    "df['Prediction'] = df[['Adj. Close']].shift(-forecast_out)\n",
    "print(df.head())"
   ]
  },
  {
   "cell_type": "code",
   "execution_count": 20,
   "metadata": {},
   "outputs": [],
   "source": [
    "### Independent set for x\n",
    "# df to np arr\n",
    "x = np.array(df.drop(['Prediction'], 1))\n",
    "# Remove last n rows\n",
    "x = x[:-forecast_out]\n"
   ]
  },
  {
   "cell_type": "code",
   "execution_count": 21,
   "metadata": {},
   "outputs": [],
   "source": [
    "### Dependent set for y\n",
    "# df to np arr (everything including NaN's)\n",
    "y = np.array(df['Prediction'])\n",
    "# Get all y except last n rows\n",
    "y = y[:-forecast_out]"
   ]
  },
  {
   "cell_type": "code",
   "execution_count": 22,
   "metadata": {},
   "outputs": [],
   "source": [
    "# 80 20 Test Train Split\n",
    "x_train, x_test, y_train, y_test = train_test_split(x, y, test_size = 0.2)"
   ]
  },
  {
   "cell_type": "code",
   "execution_count": 23,
   "metadata": {},
   "outputs": [
    {
     "data": {
      "text/plain": [
       "SVR(C=1000.0, cache_size=200, coef0=0.0, degree=3, epsilon=0.1, gamma=0.1,\n",
       "  kernel='rbf', max_iter=-1, shrinking=True, tol=0.001, verbose=False)"
      ]
     },
     "execution_count": 23,
     "metadata": {},
     "output_type": "execute_result"
    }
   ],
   "source": [
    "# Create + Train Support Vector Machine (Regressor)\n",
    "svr_rbf = SVR(kernel='rbf', C=1e3, gamma=0.1)\n",
    "svr_rbf.fit(x_train, y_train)\n"
   ]
  },
  {
   "cell_type": "code",
   "execution_count": 26,
   "metadata": {},
   "outputs": [
    {
     "name": "stdout",
     "output_type": "stream",
     "text": [
      "svm, confidence:  0.9754300884535297\n"
     ]
    }
   ],
   "source": [
    "# Test Model: Score returns coef of Determination r^2 of the prediction\n",
    "# best score is 1.0\n",
    "svm_confidence = svr_rbf.score(x_test, y_test)\n",
    "print(\"svm, confidence: \", svm_confidence)"
   ]
  },
  {
   "cell_type": "code",
   "execution_count": 28,
   "metadata": {},
   "outputs": [
    {
     "data": {
      "text/plain": [
       "LinearRegression(copy_X=True, fit_intercept=True, n_jobs=None,\n",
       "         normalize=False)"
      ]
     },
     "execution_count": 28,
     "metadata": {},
     "output_type": "execute_result"
    }
   ],
   "source": [
    "# Create and Train Linear Regression Model\n",
    "lr = LinearRegression()\n",
    "# Train the Model\n",
    "lr.fit(x_train, y_train)"
   ]
  },
  {
   "cell_type": "code",
   "execution_count": 29,
   "metadata": {},
   "outputs": [
    {
     "name": "stdout",
     "output_type": "stream",
     "text": [
      "lr, confidence:  0.9819267604958196\n"
     ]
    }
   ],
   "source": [
    "# Test Model: Score returns coef of Determination r^2 of the prediction\n",
    "# best score is 1.0\n",
    "lr_confidence = lr.score(x_test, y_test)\n",
    "print(\"lr, confidence: \", lr_confidence)"
   ]
  },
  {
   "cell_type": "code",
   "execution_count": 30,
   "metadata": {},
   "outputs": [
    {
     "name": "stdout",
     "output_type": "stream",
     "text": [
      "[[173.15]\n",
      " [179.52]\n",
      " [179.96]\n",
      " [177.36]\n",
      " [176.01]\n",
      " [177.91]\n",
      " [178.99]\n",
      " [183.29]\n",
      " [184.93]\n",
      " [181.46]\n",
      " [178.32]\n",
      " [175.94]\n",
      " [176.62]\n",
      " [180.4 ]\n",
      " [179.78]\n",
      " [183.71]\n",
      " [182.34]\n",
      " [185.23]\n",
      " [184.76]\n",
      " [181.88]\n",
      " [184.19]\n",
      " [183.86]\n",
      " [185.09]\n",
      " [172.56]\n",
      " [168.15]\n",
      " [169.39]\n",
      " [164.89]\n",
      " [159.39]\n",
      " [160.06]\n",
      " [152.19]]\n"
     ]
    }
   ],
   "source": [
    "# Set x_forecast is last 30 rows of the data set from adj.close column\n",
    "x_forecast = np.array(df.drop(['Prediction'], 1))[-forecast_out:]\n",
    "print(x_forecast)"
   ]
  },
  {
   "cell_type": "code",
   "execution_count": 32,
   "metadata": {},
   "outputs": [
    {
     "name": "stdout",
     "output_type": "stream",
     "text": [
      "[176.99343094 183.41671059 183.86039082 181.23864402 179.87735241\n",
      " 181.7932443  182.88227759 187.21824344 188.87196065 185.37293704\n",
      " 182.20667361 179.80676692 180.49245455 184.30407104 183.67888527\n",
      " 187.64175639 186.2602975  189.1744699  188.70053875 185.79644999\n",
      " 188.12577118 187.79301101 189.03329892 176.39849609 171.95161018\n",
      " 173.20198173 168.66434304 163.11834021 163.79394419 155.85811831]\n",
      "[174.86446558 181.28935865 180.91808258 174.84733859 173.28752458\n",
      " 177.24647037 181.16403269 185.06439323 176.0295288  184.69178277\n",
      " 179.17004788 173.30150789 173.31884034 180.89967137 181.07091989\n",
      " 181.78812228 188.20201246 176.54229599 176.09107304 186.84033161\n",
      " 178.2509256  180.59246691 176.21102891 176.7122552  171.33277383\n",
      " 172.26899165 171.56177019 167.55444215 166.30145436 161.31246311]\n"
     ]
    }
   ],
   "source": [
    "# Print linear regression model predictions for next 'n' days\n",
    "lr_prediction = lr.predict(x_forecast)\n",
    "print(lr_prediction)\n",
    "# Print support vector regressor model predictions for next 'n' days\n",
    "svm_prediction = svr_rbf.predict(x_forecast)\n",
    "print(svm_prediction)"
   ]
  },
  {
   "cell_type": "code",
   "execution_count": null,
   "metadata": {},
   "outputs": [],
   "source": []
  }
 ],
 "metadata": {
  "kernelspec": {
   "display_name": "Python 3",
   "language": "python",
   "name": "python3"
  },
  "language_info": {
   "codemirror_mode": {
    "name": "ipython",
    "version": 3
   },
   "file_extension": ".py",
   "mimetype": "text/x-python",
   "name": "python",
   "nbconvert_exporter": "python",
   "pygments_lexer": "ipython3",
   "version": "3.7.3"
  }
 },
 "nbformat": 4,
 "nbformat_minor": 2
}
